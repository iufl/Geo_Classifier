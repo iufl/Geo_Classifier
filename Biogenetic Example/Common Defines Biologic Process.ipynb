{
 "cells": [
  {
   "cell_type": "code",
   "execution_count": 7,
   "metadata": {},
   "outputs": [
    {
     "name": "stdout",
     "output_type": "stream",
     "text": [
      "microvilius\n",
      "biogenesis\n",
      "biogenesis\n",
      "morphogenesis\n",
      "cytoskeleton\n",
      "biogenesis\n",
      "actin\n",
      "cytoskeleton\n",
      "biogenesis\n"
     ]
    }
   ],
   "source": [
    "abbreviations = {\n",
    "    'VEGF' : 'vascular endothelial growth factor'\n",
    "}\n",
    "\n",
    "keepwords = ['GTPase-mediated', 'transmembrane', 'NF-kB', 'VEGF', 'morphogenesis','keratinization',\n",
    "             'mesenchymal', 'ectoderm', 'mesoderm', 'anglogenesis', 'vasculature', 'biogenesis',\n",
    "             'pseudopodium', 'filopodium', 'epihtelial', 'microvilius', 'biogenesis','cytoskeleton',\n",
    "             'actin', 'endothelial']\n"
   ]
  },
  {
   "cell_type": "code",
   "execution_count": null,
   "metadata": {},
   "outputs": [],
   "source": []
  }
 ],
 "metadata": {
  "kernelspec": {
   "display_name": "Python 3",
   "language": "python",
   "name": "python3"
  },
  "language_info": {
   "codemirror_mode": {
    "name": "ipython",
    "version": 3
   },
   "file_extension": ".py",
   "mimetype": "text/x-python",
   "name": "python",
   "nbconvert_exporter": "python",
   "pygments_lexer": "ipython3",
   "version": "3.7.6"
  }
 },
 "nbformat": 4,
 "nbformat_minor": 2
}
