{
 "cells": [
  {
   "cell_type": "code",
   "execution_count": 1,
   "metadata": {},
   "outputs": [],
   "source": [
    "cellular_process_info = ['cell', 'adhesion', 'communication', 'signal transduction', 'extracellular stimulus', 'hormone secretion',\n",
    "                         'intracellular signaling cascade', 'enzyme linked', 'receptor protein', 'small GTPase mediated',\n",
    "                         'transmembrane', 'signaling pathway', 'protein kinase', 'notch pathway', 'NF-kB', 'VEGF', 'regulation', 'activity']\n",
    "\n",
    "development_info = ['morphogenesis', 'organ development', 'tissue', 'cell differentiation', 'epithelial', 'epidermal', 'epidermis', 'keratinization',\n",
    "                    'mesenchymal differentiation transition','ectoderm', 'mesoderm', 'anglogenesis', 'vasculature', 'blood vessel', 'morphogenesis',\n",
    "                    'cellular', 'projection', 'organization', 'biogenesis', 'pseudopodium', 'formation', 'filopodium', 'microvilius biogenesis',\n",
    "                    'epithelium', 'epihtelial']\n",
    "\n",
    "physiological_process_info = ['cellular physiological process', 'cell', 'motility', 'death', 'organization', 'biogenesis', 'cellular morphogenesis',\n",
    "                              'cycle', 'substrate junction assembly', 'cytoskeleton organization biogenesis', 'actin cytoskeleton', 'intermediate filament',\n",
    "                              'organization biogenesis', 'proliferation', 'regulation']\n",
    "\n",
    "domains = ['cellular process', 'development', 'physiologic process']\n",
    "\n",
    "themes = ['biologic process']\n",
    "\n"
   ]
  },
  {
   "cell_type": "code",
   "execution_count": 2,
   "metadata": {},
   "outputs": [],
   "source": [
    "NUM_LABELS_BIO = 3\n"
   ]
  },
  {
   "cell_type": "code",
   "execution_count": null,
   "metadata": {},
   "outputs": [],
   "source": []
  }
 ],
 "metadata": {
  "kernelspec": {
   "display_name": "Python 3",
   "language": "python",
   "name": "python3"
  },
  "language_info": {
   "codemirror_mode": {
    "name": "ipython",
    "version": 3
   },
   "file_extension": ".py",
   "mimetype": "text/x-python",
   "name": "python",
   "nbconvert_exporter": "python",
   "pygments_lexer": "ipython3",
   "version": "3.7.6"
  }
 },
 "nbformat": 4,
 "nbformat_minor": 4
}
