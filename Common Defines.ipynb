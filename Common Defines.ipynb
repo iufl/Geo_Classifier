{
 "cells": [
  {
   "cell_type": "code",
   "execution_count": 1,
   "metadata": {},
   "outputs": [],
   "source": [
    "abbreviations = {\n",
    "    'UV' : ' ultraviolet',\n",
    "    'IR' : 'infrared',\n",
    "    'TIR' : 'thermal infrared',\n",
    "    'GHI' : 'global horizontal irradiance',\n",
    "    'DNI' : 'direct normal irradiance',\n",
    "    'BNI' : 'beam normal irradiance',\n",
    "    'PoA' : 'plane of array',\n",
    "    'KT' : 'clearness index',\n",
    "    'KC' : 'clearsky index',\n",
    "    'KD' : 'diffuse fraction',\n",
    "    'QC' : 'quality control',\n",
    "    'NWP' : 'numerical weather prediction',\n",
    "    'WV' : 'water vapor',\n",
    "    'OZ' : 'ozone',\n",
    "    'O3' : 'ozone',\n",
    "    'RH' : 'relative humidity',\n",
    "    'AOD' : 'aerosol optical depth',\n",
    "    'AOT' : 'aerosol optical thickness',\n",
    "    'SSA' : 'single scattering albedo',\n",
    "    'CBH' : 'cloud base height',\n",
    "    'CTH' : 'cloud top height',\n",
    "    'CMV' : 'cloud motion vector',\n",
    "    'BRDF' : 'bi-directional reflectance function',\n",
    "    'PV' : 'photovoltaic',\n",
    "    'CSP' : 'concentrated solar power',\n",
    "    'CSTE' : 'concentrated solar thermal energy',\n",
    "    'CF' : 'capacity factor',\n",
    "    'U' : 'tension',\n",
    "    'I' : 'current',\n",
    "    'DC' : 'discrete current',\n",
    "    'AC' : 'alternative current'\n",
    "}\n",
    "\n",
    "keepwords = [\"irradiation\", \"photovoltaic\", \"irradiance\", \"snowdepth\", \"snowcover\",\n",
    "             \"reflectance\", \"bi-directional\", \"airmass\", \"longwave\", \"downwelling\", \"sky\",\n",
    "             \"pyranometer\", \"pyranometric\", \"pyrheliometer\", \"thermopile\", \"photopile\", \"irradiometer\",\n",
    "            \"insitu\", \"in-situ\", \"albedo\", \"azimuth\"]\n"
   ]
  },
  {
   "cell_type": "code",
   "execution_count": null,
   "metadata": {},
   "outputs": [],
   "source": []
  }
 ],
 "metadata": {
  "kernelspec": {
   "display_name": "Python 3",
   "language": "python",
   "name": "python3"
  },
  "language_info": {
   "codemirror_mode": {
    "name": "ipython",
    "version": 3
   },
   "file_extension": ".py",
   "mimetype": "text/x-python",
   "name": "python",
   "nbconvert_exporter": "python",
   "pygments_lexer": "ipython3",
   "version": "3.7.3"
  }
 },
 "nbformat": 4,
 "nbformat_minor": 2
}
