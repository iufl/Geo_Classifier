{
 "cells": [
  {
   "cell_type": "code",
   "execution_count": 1,
   "metadata": {},
   "outputs": [],
   "source": [
    "time_series_solar_resources = ['downwelling', 'atmosphere', 'extraterrestrial', 'clear', 'sky',\n",
    "                               'broadband', 'shortwave', 'longwave', 'spectral', 'ultraviolet',\n",
    "                               'thermal', 'infrared', 'irradiance', 'irradiation',\n",
    "                               'radiance', 'beam', 'diffuse', 'zenith', 'azimuth', 'airmass', 'diffuse']\n",
    "\n",
    "atmosphere_meteorology = ['spectral', 'aerosol', 'optical', 'scattering', 'albedo', 'angstrom', 'water vapor', \n",
    "                         'ozone', 'temperature', 'pressure', 'cloud', 'type', 'wind', 'speed', 'direction',\n",
    "                          'optical', 'depth', 'height', 'phase', 'motion', \n",
    "                         'snowdepth', 'snowcover', 'rainfall']\n",
    "\n",
    "ground_topography = ['elevation', 'altitude', 'digital' , 'elevation', 'model', 'surface', 'horizon', 'mask', \n",
    "                    'shadow', 'albedo', 'bi-directional', 'reflectance', 'function']\n",
    "\n",
    "meteorological_year = ['global', 'horizontal', 'direct' ,'normal', 'wind','speed', 'direction',\n",
    "                      'relative', 'humidity', 'pressure', 'snowdepth', 'snowcover',\n",
    "                      'diffuse' ,'horizontal', 'irradiance' , 'irradiation']\n",
    "\n",
    "solar_potential_measures = ['capacity', 'factor', 'equivalent', 'hour', 'energy', 'yield',\n",
    "                            'discrete', 'alternative', 'tension', 'current']\n",
    "\n",
    "solar_resource_subsets = ['time', 'series', 'solar', 'resources', 'atmosphere', 'meteorology', 'ground',\n",
    "                          'topography', 'typical', 'meteorological', 'year', 'representative']\n",
    "\n",
    "solar_resource_info = ['historical', 'long' ,'term', 'multi', 'years', 'short',\n",
    "                       'time', 'series', 'solar_resource', 'atmosphere', 'meteorology']\n",
    "\n",
    "solar_info = ['solar', 'resource', 'potential']\n",
    "\n",
    "information = ['local', 'maps', 'meteorological', 'capacity_factor', 'potential',\n",
    "               'power', 'available', 'country', 'desert', 'mapping']\n",
    "\n",
    "domains = ['mine', 'cost_electricity', 'infrastructure_local', 'renewable',\n",
    "           'show', 'solar', 'wind', 'resource', 'climate_other']\n",
    "\n",
    "themes = ['energy', 'environment', 'atmosphere']"
   ]
  },
  {
   "cell_type": "code",
   "execution_count": null,
   "metadata": {},
   "outputs": [],
   "source": []
  }
 ],
 "metadata": {
  "kernelspec": {
   "display_name": "Python 3",
   "language": "python",
   "name": "python3"
  },
  "language_info": {
   "codemirror_mode": {
    "name": "ipython",
    "version": 3
   },
   "file_extension": ".py",
   "mimetype": "text/x-python",
   "name": "python",
   "nbconvert_exporter": "python",
   "pygments_lexer": "ipython3",
   "version": "3.6.8"
  }
 },
 "nbformat": 4,
 "nbformat_minor": 2
}
